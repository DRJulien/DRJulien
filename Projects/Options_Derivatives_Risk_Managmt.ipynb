{
 "cells": [
  {
   "cell_type": "markdown",
   "id": "2c34d282",
   "metadata": {},
   "source": [
    "# Import data "
   ]
  },
  {
   "cell_type": "code",
   "execution_count": 2,
   "id": "093c631a",
   "metadata": {
    "ExecuteTime": {
     "end_time": "2023-03-12T09:09:52.799193Z",
     "start_time": "2023-03-12T09:09:50.313162Z"
    }
   },
   "outputs": [],
   "source": [
    "# Import necessary packages\n",
    "\n",
    "import yfinance as yf\n",
    "import pandas as pd\n",
    "import numpy as np\n",
    "from datetime import datetime\n",
    "import matplotlib.pyplot as plt\n",
    "from scipy.stats import norm\n",
    "import math"
   ]
  },
  {
   "cell_type": "code",
   "execution_count": 3,
   "id": "10f46c05",
   "metadata": {
    "ExecuteTime": {
     "end_time": "2023-03-12T09:09:53.261314Z",
     "start_time": "2023-03-12T09:09:53.232020Z"
    }
   },
   "outputs": [],
   "source": [
    "# Set tickers to download\n",
    "liste_company = [\n",
    "    \"LVMH\"\n",
    "]\n",
    "liste_tickers_to_download = [\n",
    "    \"MC.PA\"\n",
    "]\n",
    "\n",
    "\n",
    "# Function to download data historic by their tickers name\n",
    "def download_data(ticker_name, company_name):\n",
    "    data_ticker = yf.download(\n",
    "        tickers=ticker_name,\n",
    "        start=\"2022-01-01\",\n",
    "        end=\"2022-12-31\",  # time period\n",
    "        interval=\"1d\",  # trading interval\n",
    "        ignore_tz=True,  # ignore timezone when aligning data from different exchanges?\n",
    "        prepost=False)  # download pre/post market hours data?\n",
    "\n",
    "    # keep only the close price, and rename the column by the ticker name\n",
    "    df = data_ticker[['Close']]\n",
    "    df = df.rename(columns={'Close': company_name})\n",
    "    df.reset_index(inplace=True)\n",
    "\n",
    "    # Keep only last price of each month and compute returns\n",
    "    df = df.reset_index(drop=True)\n",
    "    df['Date'] = pd.to_datetime(df['Date']).dt.strftime('%Y-%m-%d')\n",
    "\n",
    "    return (df)"
   ]
  },
  {
   "cell_type": "code",
   "execution_count": 4,
   "id": "6fbf58c1",
   "metadata": {
    "ExecuteTime": {
     "end_time": "2023-03-12T09:09:54.721716Z",
     "start_time": "2023-03-12T09:09:53.918555Z"
    }
   },
   "outputs": [
    {
     "name": "stdout",
     "output_type": "stream",
     "text": [
      "[*********************100%***********************]  1 of 1 completed\n"
     ]
    },
    {
     "data": {
      "text/html": [
       "<div>\n",
       "<style scoped>\n",
       "    .dataframe tbody tr th:only-of-type {\n",
       "        vertical-align: middle;\n",
       "    }\n",
       "\n",
       "    .dataframe tbody tr th {\n",
       "        vertical-align: top;\n",
       "    }\n",
       "\n",
       "    .dataframe thead th {\n",
       "        text-align: right;\n",
       "    }\n",
       "</style>\n",
       "<table border=\"1\" class=\"dataframe\">\n",
       "  <thead>\n",
       "    <tr style=\"text-align: right;\">\n",
       "      <th></th>\n",
       "      <th>Date</th>\n",
       "      <th>LVMH</th>\n",
       "    </tr>\n",
       "  </thead>\n",
       "  <tbody>\n",
       "    <tr>\n",
       "      <th>0</th>\n",
       "      <td>2022-01-03</td>\n",
       "      <td>731.000000</td>\n",
       "    </tr>\n",
       "    <tr>\n",
       "      <th>1</th>\n",
       "      <td>2022-01-04</td>\n",
       "      <td>744.000000</td>\n",
       "    </tr>\n",
       "    <tr>\n",
       "      <th>2</th>\n",
       "      <td>2022-01-05</td>\n",
       "      <td>758.000000</td>\n",
       "    </tr>\n",
       "    <tr>\n",
       "      <th>3</th>\n",
       "      <td>2022-01-06</td>\n",
       "      <td>727.099976</td>\n",
       "    </tr>\n",
       "    <tr>\n",
       "      <th>4</th>\n",
       "      <td>2022-01-07</td>\n",
       "      <td>715.799988</td>\n",
       "    </tr>\n",
       "    <tr>\n",
       "      <th>...</th>\n",
       "      <td>...</td>\n",
       "      <td>...</td>\n",
       "    </tr>\n",
       "    <tr>\n",
       "      <th>252</th>\n",
       "      <td>2022-12-23</td>\n",
       "      <td>673.799988</td>\n",
       "    </tr>\n",
       "    <tr>\n",
       "      <th>253</th>\n",
       "      <td>2022-12-27</td>\n",
       "      <td>690.200012</td>\n",
       "    </tr>\n",
       "    <tr>\n",
       "      <th>254</th>\n",
       "      <td>2022-12-28</td>\n",
       "      <td>686.599976</td>\n",
       "    </tr>\n",
       "    <tr>\n",
       "      <th>255</th>\n",
       "      <td>2022-12-29</td>\n",
       "      <td>696.500000</td>\n",
       "    </tr>\n",
       "    <tr>\n",
       "      <th>256</th>\n",
       "      <td>2022-12-30</td>\n",
       "      <td>679.900024</td>\n",
       "    </tr>\n",
       "  </tbody>\n",
       "</table>\n",
       "<p>257 rows × 2 columns</p>\n",
       "</div>"
      ],
      "text/plain": [
       "           Date        LVMH\n",
       "0    2022-01-03  731.000000\n",
       "1    2022-01-04  744.000000\n",
       "2    2022-01-05  758.000000\n",
       "3    2022-01-06  727.099976\n",
       "4    2022-01-07  715.799988\n",
       "..          ...         ...\n",
       "252  2022-12-23  673.799988\n",
       "253  2022-12-27  690.200012\n",
       "254  2022-12-28  686.599976\n",
       "255  2022-12-29  696.500000\n",
       "256  2022-12-30  679.900024\n",
       "\n",
       "[257 rows x 2 columns]"
      ]
     },
     "execution_count": 4,
     "metadata": {},
     "output_type": "execute_result"
    }
   ],
   "source": [
    "liste_df = []\n",
    "for n in range(0, len(liste_tickers_to_download)):\n",
    "    exec(\n",
    "        f\"df_{n} = download_data(liste_tickers_to_download[n], liste_company[n])\")\n",
    "    liste_df.append('df_'+str(n))\n",
    "df_0"
   ]
  },
  {
   "cell_type": "markdown",
   "id": "39c0d16f",
   "metadata": {},
   "source": [
    "# Part 2"
   ]
  },
  {
   "cell_type": "code",
   "execution_count": 6,
   "id": "aedefc70",
   "metadata": {
    "ExecuteTime": {
     "end_time": "2023-03-12T09:09:56.490571Z",
     "start_time": "2023-03-12T09:09:56.465754Z"
    }
   },
   "outputs": [
    {
     "name": "stdout",
     "output_type": "stream",
     "text": [
      "0.0004396362230329228\n",
      "0.020967503977176748\n",
      "0.3328488068242044\n"
     ]
    }
   ],
   "source": [
    "#We compute Returns of the this stock prices\n",
    "df_0['Log_returns'] = np.log(df_0['LVMH']/df_0['LVMH'].shift())\n",
    "dfLog = df_0['Log_returns'].dropna()\n",
    "\n",
    "# We can now calculate the variance of the returns\n",
    "mean = sum(dfLog) / len(dfLog)\n",
    "squared_diffs = 0\n",
    "for x in dfLog:\n",
    "    squared_diffs += (x - mean) ** 2\n",
    "    \n",
    "variance = squared_diffs / (len(dfLog) - 1)\n",
    "print(variance)\n",
    "\n",
    "# Standard Deviation\n",
    "std = variance **0.5\n",
    "print(std)\n",
    "\n",
    "ann_volatility = std*np.sqrt(252)\n",
    "print(ann_volatility)"
   ]
  },
  {
   "cell_type": "code",
   "execution_count": 7,
   "id": "a8935a59",
   "metadata": {
    "ExecuteTime": {
     "end_time": "2023-03-12T09:09:57.768659Z",
     "start_time": "2023-03-12T09:09:57.357819Z"
    },
    "scrolled": true
   },
   "outputs": [
    {
     "data": {
      "text/plain": [
       "Text(0.5, 1.0, 'LVMH volatility: 33.0%')"
      ]
     },
     "execution_count": 7,
     "metadata": {},
     "output_type": "execute_result"
    },
    {
     "data": {
      "image/png": "[encoded data removed]",
      "text/plain": [
       "<Figure size 640x480 with 1 Axes>"
      ]
     },
     "metadata": {},
     "output_type": "display_data"
    }
   ],
   "source": [
    "# Plot log returns\n",
    "str_vol = str(round(ann_volatility, 2)*100)\n",
    "\n",
    "fig, ax = plt.subplots()\n",
    "df_0['Log_returns'].hist(ax=ax, bins=50, alpha=0.6, color='b')\n",
    "ax.set_xlabel('Log return')\n",
    "ax.set_ylabel('Freq of log return')\n",
    "ax.set_title('LVMH volatility: ' + str_vol + '%')"
   ]
  },
  {
   "cell_type": "markdown",
   "id": "b27be576",
   "metadata": {},
   "source": [
    "# Part 3"
   ]
  },
  {
   "cell_type": "code",
   "execution_count": 16,
   "id": "a840c4c8",
   "metadata": {
    "ExecuteTime": {
     "end_time": "2023-03-12T09:09:59.767452Z",
     "start_time": "2023-03-12T09:09:59.746015Z"
    }
   },
   "outputs": [],
   "source": [
    "# Compute the normal probability according to the cumulative table\n",
    "def N_(d):\n",
    "    return norm.cdf(d)\n",
    "\n",
    "# Compute call and put prices \n",
    "def bsm_model(So, X, r, T, ann_volatility):\n",
    "\n",
    "    d1 = (np.log(So/X) + (r + (0.5 * ann_volatility**2)) * T)/(ann_volatility * T**0.5)\n",
    "    d2 = d1 - (ann_volatility * T**0.5)\n",
    "\n",
    "    call = (So * N_(d1)) - (X * math.e**(-(r*T)) * N_(d2))\n",
    "    put = (X * math.e**(-(r*T)) * (1 - N_(d2))) - (So * (1 - N_(d1)))\n",
    "\n",
    "    return [call, put, d1, d2]"
   ]
  },
  {
   "cell_type": "code",
   "execution_count": 12,
   "id": "812372c3",
   "metadata": {
    "ExecuteTime": {
     "end_time": "2023-03-12T09:10:00.633997Z",
     "start_time": "2023-03-12T09:10:00.593981Z"
    }
   },
   "outputs": [
    {
     "data": {
      "text/html": [
       "<div>\n",
       "<style scoped>\n",
       "    .dataframe tbody tr th:only-of-type {\n",
       "        vertical-align: middle;\n",
       "    }\n",
       "\n",
       "    .dataframe tbody tr th {\n",
       "        vertical-align: top;\n",
       "    }\n",
       "\n",
       "    .dataframe thead th {\n",
       "        text-align: right;\n",
       "    }\n",
       "</style>\n",
       "<table border=\"1\" class=\"dataframe\">\n",
       "  <thead>\n",
       "    <tr style=\"text-align: right;\">\n",
       "      <th></th>\n",
       "      <th>3M</th>\n",
       "      <th>6M</th>\n",
       "      <th>9M</th>\n",
       "      <th>1Y</th>\n",
       "      <th>3Y</th>\n",
       "      <th>5Y</th>\n",
       "      <th>10Y</th>\n",
       "      <th>15Y</th>\n",
       "      <th>20Y</th>\n",
       "      <th>25Y</th>\n",
       "      <th>30Y</th>\n",
       "    </tr>\n",
       "  </thead>\n",
       "  <tbody>\n",
       "    <tr>\n",
       "      <th>0</th>\n",
       "      <td>1.710096</td>\n",
       "      <td>2.092719</td>\n",
       "      <td>2.325662</td>\n",
       "      <td>2.460508</td>\n",
       "      <td>2.50211</td>\n",
       "      <td>2.450907</td>\n",
       "      <td>2.555314</td>\n",
       "      <td>2.60912</td>\n",
       "      <td>2.584189</td>\n",
       "      <td>2.51419</td>\n",
       "      <td>2.424461</td>\n",
       "    </tr>\n",
       "  </tbody>\n",
       "</table>\n",
       "</div>"
      ],
      "text/plain": [
       "         3M        6M        9M        1Y       3Y        5Y       10Y  \\\n",
       "0  1.710096  2.092719  2.325662  2.460508  2.50211  2.450907  2.555314   \n",
       "\n",
       "       15Y       20Y      25Y       30Y  \n",
       "0  2.60912  2.584189  2.51419  2.424461  "
      ]
     },
     "execution_count": 12,
     "metadata": {},
     "output_type": "execute_result"
    }
   ],
   "source": [
    "# DataFrame of risk free rates according to their maturity\n",
    "# Date of observation 30/12/2022\n",
    "# Source : ECB\n",
    "\n",
    "maturities = [\"3M\", \"6M\", \"9M\", \"1Y\", \"3Y\", \"5Y\", \"10Y\", \"15Y\", \"20Y\", \"25Y\", \"30Y\"]\n",
    "rates = [1.710096, 2.092719, 2.325662, 2.460508, 2.502110, 2.450907, 2.555314, 2.609120, 2.584189, 2.514190, 2.424461]\n",
    "\n",
    "\n",
    "rfrates = pd.DataFrame([rates], columns = maturities)\n",
    "rfrates"
   ]
  },
  {
   "cell_type": "code",
   "execution_count": 19,
   "id": "71094b37",
   "metadata": {
    "ExecuteTime": {
     "end_time": "2023-03-12T09:10:01.913367Z",
     "start_time": "2023-03-12T09:10:01.889121Z"
    }
   },
   "outputs": [
    {
     "name": "stdout",
     "output_type": "stream",
     "text": [
      "679.9000244140625 645.6003900075237 747.8900268554688\n"
     ]
    }
   ],
   "source": [
    "So = list(df_0.LVMH.values)[-1]\n",
    "\n",
    "# Setting exercise prices as asked in instructions of the project\n",
    "X1 = np.mean(df_0['LVMH'])\n",
    "X2 = So * 1.1\n",
    "print(So, X1, X2)\n",
    "X = X2\n",
    "\n",
    "# As a rfr, we select the 1y german bonds yield which we found on Investing.com\n",
    "rfr = rfrates[\"1Y\"]\n",
    "T = 1\n",
    "\n",
    "r = (rfr/100)**(1/T)\n",
    "\n",
    "\n",
    "# Set T according to the maturity of the risk free rate\n",
    "ann_volatility = ann_volatility"
   ]
  },
  {
   "cell_type": "code",
   "execution_count": 17,
   "id": "69126f53",
   "metadata": {
    "ExecuteTime": {
     "end_time": "2023-03-12T09:10:02.628141Z",
     "start_time": "2023-03-12T09:10:02.595348Z"
    }
   },
   "outputs": [
    {
     "data": {
      "text/plain": [
       "[0    70.326532\n",
       " Name: 1Y, dtype: float64,\n",
       " 0    120.139185\n",
       " Name: 1Y, dtype: float64,\n",
       " 0   -0.046\n",
       " Name: 1Y, dtype: float64,\n",
       " 0   -0.378848\n",
       " Name: 1Y, dtype: float64]"
      ]
     },
     "execution_count": 17,
     "metadata": {},
     "output_type": "execute_result"
    }
   ],
   "source": [
    "#With X equals our current market price for our asset with a 10% deviation up  \n",
    "bsm_model(So, X, r, T, ann_volatility)"
   ]
  },
  {
   "cell_type": "code",
   "execution_count": 20,
   "id": "cf3c9a41",
   "metadata": {},
   "outputs": [
    {
     "data": {
      "text/plain": [
       "[0    113.805136\n",
       " Name: 1Y, dtype: float64,\n",
       " 0    63.814286\n",
       " Name: 1Y, dtype: float64,\n",
       " 0    0.395868\n",
       " Name: 1Y, dtype: float64,\n",
       " 0    0.063019\n",
       " Name: 1Y, dtype: float64]"
      ]
     },
     "execution_count": 20,
     "metadata": {},
     "output_type": "execute_result"
    }
   ],
   "source": [
    "#With X equals the mean of our asset's market price data \n",
    "bsm_model(So, X1, r, T, ann_volatility)"
   ]
  },
  {
   "cell_type": "code",
   "execution_count": 31,
   "id": "ff71945e",
   "metadata": {
    "ExecuteTime": {
     "end_time": "2023-03-12T09:10:03.178569Z",
     "start_time": "2023-03-12T09:10:03.146610Z"
    }
   },
   "outputs": [
    {
     "data": {
      "text/plain": [
       "[52.10997314453118, -18.216558871993925]"
      ]
     },
     "execution_count": 31,
     "metadata": {},
     "output_type": "execute_result"
    }
   ],
   "source": [
    "# Payoff\n",
    "# St market price of the asset at maturity T\n",
    "# n = number of call options purchased\n",
    "#We keep X as our current asset's market price with a 10% deviation up\n",
    "\n",
    "call, put, d1, d2 = bsm_model(So, X, r, T, ann_volatility)\n",
    "\n",
    "def results(St, n=1):    \n",
    "    results = [0, St - X]\n",
    "    payoff = n * max(results)\n",
    "    pnl = payoff - (call.item() * n)\n",
    "#     print('Payoff :', payoff,\n",
    "#          'PnL :', pnl)\n",
    "    return [payoff, pnl]\n",
    "\n",
    "St = 800\n",
    "# n = 10000\n",
    "\n",
    "payoff, pnl = results(St)\n",
    "results(St)"
   ]
  },
  {
   "cell_type": "markdown",
   "id": "c85d2ae4",
   "metadata": {},
   "source": [
    "# Part 4\n",
    "Change in parameters"
   ]
  },
  {
   "cell_type": "code",
   "execution_count": 34,
   "id": "bca45653",
   "metadata": {
    "ExecuteTime": {
     "end_time": "2023-03-12T09:10:04.420584Z",
     "start_time": "2023-03-12T09:10:04.404044Z"
    }
   },
   "outputs": [
    {
     "name": "stdout",
     "output_type": "stream",
     "text": [
      "0.48165525595435515\n",
      "-0.5183447440456448\n"
     ]
    }
   ],
   "source": [
    "# Change in the price of the underlying asset\n",
    "# Delta = N(d1)\n",
    "\n",
    "deltaC = N_(d1).item()\n",
    "print(deltaC)\n",
    "deltaP = N_(d1).item() - 1\n",
    "print(deltaP)"
   ]
  },
  {
   "cell_type": "code",
   "execution_count": 35,
   "id": "9452bd24",
   "metadata": {
    "ExecuteTime": {
     "end_time": "2023-03-12T09:10:05.810482Z",
     "start_time": "2023-03-12T09:10:04.806259Z"
    }
   },
   "outputs": [
    {
     "data": {
      "image/png": "[encoded data removed]",
      "text/plain": [
       "<Figure size 640x480 with 1 Axes>"
      ]
     },
     "metadata": {},
     "output_type": "display_data"
    }
   ],
   "source": [
    "#Visually for Call Option value\n",
    "plt.plot(range(500,800),[bsm_model(s, X, r, T, ann_volatility)[0] for s in range(500,800)])\n",
    "plt.xlabel('Underlying Asset Price')\n",
    "plt.ylabel('LVMH Euro Call Value')\n",
    "plt.grid()"
   ]
  },
  {
   "cell_type": "code",
   "execution_count": 36,
   "id": "0e846563",
   "metadata": {
    "ExecuteTime": {
     "end_time": "2023-03-12T09:10:11.336620Z",
     "start_time": "2023-03-12T09:10:10.434718Z"
    }
   },
   "outputs": [
    {
     "data": {
      "image/png": "[encoded data removed]",
      "text/plain": [
       "<Figure size 640x480 with 1 Axes>"
      ]
     },
     "metadata": {},
     "output_type": "display_data"
    }
   ],
   "source": [
    "#Visually for Put Option value\n",
    "\n",
    "plt.plot(range(500,800),[bsm_model(s, X, r, T, ann_volatility)[1] for s in range(500,800)])\n",
    "plt.xlabel('Underlying Asset Price')\n",
    "plt.ylabel('LVMH Euro Put Value')\n",
    "plt.grid()"
   ]
  },
  {
   "cell_type": "code",
   "execution_count": 37,
   "id": "5248e08a",
   "metadata": {
    "ExecuteTime": {
     "end_time": "2023-03-12T09:10:11.765033Z",
     "start_time": "2023-03-12T09:10:11.740238Z"
    }
   },
   "outputs": [
    {
     "data": {
      "text/plain": [
       "0.001760996641090296"
      ]
     },
     "execution_count": 37,
     "metadata": {},
     "output_type": "execute_result"
    }
   ],
   "source": [
    "# Change in the delta : gamma\n",
    "def N_2(x):\n",
    "    return (1/(math.sqrt(2*math.pi)))*math.exp(-((x**2)/2))\n",
    "\n",
    "gamma = N_2(d1)/(So*ann_volatility*math.sqrt(T))\n",
    "gamma"
   ]
  },
  {
   "cell_type": "code",
   "execution_count": 38,
   "id": "f74649e8",
   "metadata": {
    "ExecuteTime": {
     "end_time": "2023-03-12T09:10:12.296866Z",
     "start_time": "2023-03-12T09:10:12.274304Z"
    }
   },
   "outputs": [],
   "source": [
    "# Change of the value with time : theta\n",
    "\n",
    "def theta(x, y):\n",
    "    call = -((So*N_2(x.item())*ann_volatility)/(2*math.sqrt(T))) - r*X*math.exp(-r*T)*N_(y.item())\n",
    "    thetaC = call/252\n",
    "    \n",
    "    put = -((So*N_2(x.item())*ann_volatility)/(2*math.sqrt(T))) + r*X*math.exp(-r*T)*N_(-y.item())\n",
    "    thetaP = put/252\n",
    "    \n",
    "    return [thetaC, thetaP]"
   ]
  },
  {
   "cell_type": "code",
   "execution_count": 39,
   "id": "7c492ccf",
   "metadata": {
    "ExecuteTime": {
     "end_time": "2023-03-12T09:10:12.959477Z",
     "start_time": "2023-03-12T09:10:12.927539Z"
    }
   },
   "outputs": [
    {
     "data": {
      "text/plain": [
       "[0   -0.20405\n",
       " Name: 1Y, dtype: float64,\n",
       " 0   -0.132801\n",
       " Name: 1Y, dtype: float64]"
      ]
     },
     "execution_count": 39,
     "metadata": {},
     "output_type": "execute_result"
    }
   ],
   "source": [
    "theta(d1, d2)"
   ]
  },
  {
   "cell_type": "code",
   "execution_count": 40,
   "id": "dd2a9e39",
   "metadata": {
    "ExecuteTime": {
     "end_time": "2023-03-12T10:08:19.096613Z",
     "start_time": "2023-03-12T10:08:19.073212Z"
    }
   },
   "outputs": [
    {
     "name": "stdout",
     "output_type": "stream",
     "text": [
      "A decrease of 1.9% of volatility will cause a $-5.15 change on the price option\n"
     ]
    }
   ],
   "source": [
    "# Sensibility of the option's price to change in volatility\n",
    "vega = So * N_2(d1) * math.sqrt(T)\n",
    "percentage_change = -1.9/100\n",
    "Vprice_change = vega * percentage_change\n",
    "\n",
    "print('A decrease of 1.9% of volatility will cause a ' + \"${:,.2f}\".format(Vprice_change) + ' change on the price option')"
   ]
  },
  {
   "cell_type": "code",
   "execution_count": 41,
   "id": "6fb81739",
   "metadata": {
    "ExecuteTime": {
     "end_time": "2023-03-12T10:08:33.368335Z",
     "start_time": "2023-03-12T10:08:33.345049Z"
    }
   },
   "outputs": [
    {
     "name": "stdout",
     "output_type": "stream",
     "text": [
      "257.1508882660025 -472.56178926772014\n"
     ]
    }
   ],
   "source": [
    "# Option's sensitivity to changes in risk-free rate\n",
    "#Rho\n",
    "\n",
    "def rho(x):\n",
    "    # perc for the percentage of change in the risk-free rate\n",
    "    rhoC = X * T * math.exp(-r*T) * N_(x.item())\n",
    "    rhoP = -X * T * math.exp(-r*T) * N_(-x.item())\n",
    "    return [rhoC, rhoP]    \n",
    "\n",
    "percentage_change = 0.7/100\n",
    "\n",
    "Rprice_change = rho(d2)[0] * percentage_change\n",
    "print(rho(d2)[0], rho(d2)[1])\n"
   ]
  },
  {
   "cell_type": "code",
   "execution_count": 42,
   "id": "6e41fac5",
   "metadata": {
    "ExecuteTime": {
     "end_time": "2023-03-12T10:10:55.107111Z",
     "start_time": "2023-03-12T10:10:55.058886Z"
    },
    "scrolled": false
   },
   "outputs": [
    {
     "data": {
      "text/html": [
       "<div>\n",
       "<style scoped>\n",
       "    .dataframe tbody tr th:only-of-type {\n",
       "        vertical-align: middle;\n",
       "    }\n",
       "\n",
       "    .dataframe tbody tr th {\n",
       "        vertical-align: top;\n",
       "    }\n",
       "\n",
       "    .dataframe thead th {\n",
       "        text-align: right;\n",
       "    }\n",
       "</style>\n",
       "<table border=\"1\" class=\"dataframe\">\n",
       "  <thead>\n",
       "    <tr style=\"text-align: right;\">\n",
       "      <th></th>\n",
       "      <th>Value</th>\n",
       "    </tr>\n",
       "  </thead>\n",
       "  <tbody>\n",
       "    <tr>\n",
       "      <th>S0</th>\n",
       "      <td>679.900024</td>\n",
       "    </tr>\n",
       "    <tr>\n",
       "      <th>X</th>\n",
       "      <td>747.890027</td>\n",
       "    </tr>\n",
       "    <tr>\n",
       "      <th>St</th>\n",
       "      <td>800.000000</td>\n",
       "    </tr>\n",
       "    <tr>\n",
       "      <th>Volatility</th>\n",
       "      <td>0.332849</td>\n",
       "    </tr>\n",
       "    <tr>\n",
       "      <th>r</th>\n",
       "      <td>0.024605</td>\n",
       "    </tr>\n",
       "    <tr>\n",
       "      <th>Call Price</th>\n",
       "      <td>70.326532</td>\n",
       "    </tr>\n",
       "    <tr>\n",
       "      <th>Put Price</th>\n",
       "      <td>120.139185</td>\n",
       "    </tr>\n",
       "    <tr>\n",
       "      <th>Call Payoff</th>\n",
       "      <td>52.109973</td>\n",
       "    </tr>\n",
       "    <tr>\n",
       "      <th>Call PnL</th>\n",
       "      <td>-18.216559</td>\n",
       "    </tr>\n",
       "    <tr>\n",
       "      <th>Call Delta</th>\n",
       "      <td>0.481655</td>\n",
       "    </tr>\n",
       "    <tr>\n",
       "      <th>Put Delta</th>\n",
       "      <td>-0.518345</td>\n",
       "    </tr>\n",
       "    <tr>\n",
       "      <th>Gamma</th>\n",
       "      <td>0.001761</td>\n",
       "    </tr>\n",
       "    <tr>\n",
       "      <th>Call Theta</th>\n",
       "      <td>-0.204050</td>\n",
       "    </tr>\n",
       "    <tr>\n",
       "      <th>Put Theta</th>\n",
       "      <td>-0.132801</td>\n",
       "    </tr>\n",
       "    <tr>\n",
       "      <th>Vega</th>\n",
       "      <td>-5.148127</td>\n",
       "    </tr>\n",
       "    <tr>\n",
       "      <th>Call Rho</th>\n",
       "      <td>1.800056</td>\n",
       "    </tr>\n",
       "  </tbody>\n",
       "</table>\n",
       "</div>"
      ],
      "text/plain": [
       "                  Value\n",
       "S0           679.900024\n",
       "X            747.890027\n",
       "St           800.000000\n",
       "Volatility     0.332849\n",
       "r              0.024605\n",
       "Call Price    70.326532\n",
       "Put Price    120.139185\n",
       "Call Payoff   52.109973\n",
       "Call PnL     -18.216559\n",
       "Call Delta     0.481655\n",
       "Put Delta     -0.518345\n",
       "Gamma          0.001761\n",
       "Call Theta    -0.204050\n",
       "Put Theta     -0.132801\n",
       "Vega          -5.148127\n",
       "Call Rho       1.800056"
      ]
     },
     "execution_count": 42,
     "metadata": {},
     "output_type": "execute_result"
    }
   ],
   "source": [
    "variables = [\"S0\", \"X\", \"St\", \"Volatility\", \"r\", \n",
    "             \"Call Price\", \"Put Price\", \"Call Payoff\", \"Call PnL\", \n",
    "             \"Call Delta\", \"Put Delta\", \"Gamma\", \"Call Theta\", \"Put Theta\", \"Vega\", \"Call Rho\"]\n",
    "results = [So, X, St, ann_volatility, r.item(), \n",
    "           call.item(), put.item(), payoff, pnl, \n",
    "          deltaC, deltaP, gamma, theta(d1, d2)[0].item(), theta(d1, d2)[1].item(), Vprice_change, Rprice_change]\n",
    "\n",
    "resume = pd.DataFrame([results], columns = variables).T\n",
    "resume = resume.rename(columns={0:'Value'})\n",
    "resume"
   ]
  },
  {
   "cell_type": "markdown",
   "id": "ada1ecac",
   "metadata": {},
   "source": [
    "# Part 4\n",
    "OPTIONS HEDGING STRATEGIES\n",
    "\n",
    "- Delta hedging"
   ]
  },
  {
   "cell_type": "code",
   "execution_count": 45,
   "id": "ce2315f3",
   "metadata": {},
   "outputs": [
    {
     "name": "stdout",
     "output_type": "stream",
     "text": [
      "31143\n",
      "To create a delta-neutral position, the investor will have to sell 311 call options contracts\n"
     ]
    }
   ],
   "source": [
    "# Delta Hedging : Covered Call\n",
    "# Nb of shares : 15 000\n",
    "nbShares = 15000\n",
    "deltaHedge = round(nbShares / deltaC)\n",
    "print(deltaHedge)\n",
    "# 1 contract = 100 options\n",
    "\n",
    "print(\"To create a delta-neutral position, the investor will have to sell\", round(deltaHedge/100), \"call options contracts\")"
   ]
  },
  {
   "cell_type": "code",
   "execution_count": 48,
   "id": "14580d45",
   "metadata": {},
   "outputs": [
    {
     "name": "stdout",
     "output_type": "stream",
     "text": [
      "Total value of increase in the stock position : 10050.0\n",
      "Total value of decrease in the option position : -10050\n",
      "Total change in portfolio value : 0.0\n"
     ]
    }
   ],
   "source": [
    "# Effect on the portofolio value in case of a 0.67$ increase in the price of the stock (LVMH)\n",
    "deltaS = 0.67\n",
    "\n",
    "#Reminder : the delta for a call option is the variable deltaC computed previously\n",
    "#Cahnge in the option price will be :\n",
    "\n",
    "deltaO = deltaC * deltaS\n",
    "\n",
    "#Let's check the impact on the portofolio\n",
    "#Change in the value of the stock position\n",
    "stockPosition = nbShares * deltaS\n",
    "print(\"Total value of increase in the stock position :\", stockPosition)\n",
    "\n",
    "#Change in the value of option position\n",
    "optionPosition = round(deltaHedge * (-deltaO))\n",
    "print(\"Total value of decrease in the option position :\", optionPosition)\n",
    "\n",
    "#Change in portofolio\n",
    "portofolioChange = stockPosition + optionPosition\n",
    "print(\"Total change in portfolio value :\", portofolioChange)\n",
    "\n"
   ]
  },
  {
   "cell_type": "code",
   "execution_count": 60,
   "id": "4a9c08db",
   "metadata": {},
   "outputs": [
    {
     "name": "stdout",
     "output_type": "stream",
     "text": [
      "difference in the deltas after a 0.67$ increase of the stock price : 0.0011793653322498265\n"
     ]
    }
   ],
   "source": [
    "#Since there is a change in the stock price, it impacts the delta\n",
    "#We compute the new delta for a call option with our new spot price\n",
    "change = 0.67\n",
    "newDeltaCall = N_(bsm_model(So+change, X, r, T, ann_volatility)[2]).item()\n",
    "\n",
    "print(\"Difference in the deltas after a 0.67$ increase of the stock price :\", newDeltaCall - deltaC)"
   ]
  },
  {
   "cell_type": "code",
   "execution_count": 61,
   "id": "13b17af5",
   "metadata": {},
   "outputs": [
    {
     "name": "stdout",
     "output_type": "stream",
     "text": [
      "To create a delta-neutral position with the new stock price, the investor will have to sell 311 call options contracts\n"
     ]
    }
   ],
   "source": [
    "#We will now see if we need to rebalance our portofolio\n",
    "newDeltaHedge = round(nbShares / newDeltaCall)\n",
    "print(\"To create a delta-neutral position with the new stock price, the investor will have to sell\", round(deltaHedge/100), \"call options contracts\")"
   ]
  },
  {
   "cell_type": "markdown",
   "id": "2b5ec704",
   "metadata": {},
   "source": [
    "We already have a short position on 311 call option contracts, this change in LVMH stock prices doesn't affect our portofolio"
   ]
  },
  {
   "cell_type": "markdown",
   "id": "2a7ae3f1",
   "metadata": {},
   "source": [
    "- Gamma Hedging\n",
    "\n",
    "(website : https://www.optionistics.com/calculators/stock-option-calculator/AAPL)"
   ]
  },
  {
   "cell_type": "code",
   "execution_count": 66,
   "id": "0a589231",
   "metadata": {},
   "outputs": [
    {
     "data": {
      "text/plain": [
       "0.0019786479113374114"
      ]
     },
     "execution_count": 66,
     "metadata": {},
     "output_type": "execute_result"
    }
   ],
   "source": [
    "# For this strategy, we need informations anbout an instrument not linearly related to the underlying instrument\n",
    "# We're gonna selct a random option with its respective delta and gamma values.\n",
    "# For a long option position on Apple stocks\n",
    "#AAPL call option expiring in january 2024 :\n",
    "AAPLdelta = 0.5005\n",
    "AAPLgamma = 0.89\n",
    "\n",
    "# We have 15000 shares, and short on 311 call options contracts\n",
    "# Our position is delta neutral\n",
    "# Let's make gamma neutral\n",
    "\n",
    "gammaNeutral = -(-gamma/AAPLgamma)\n",
    "gammaNeutral\n",
    "\n",
    "#Since our gamma is close to 0, we don't need to add a lot of other options to obtain gamma neutrality"
   ]
  },
  {
   "cell_type": "markdown",
   "id": "48fcdb3c",
   "metadata": {},
   "source": [
    "To continue the exercice, let's suppose that we can buy sliced of options"
   ]
  },
  {
   "cell_type": "code",
   "execution_count": 71,
   "id": "b36df9f8",
   "metadata": {},
   "outputs": [
    {
     "name": "stdout",
     "output_type": "stream",
     "text": [
      "An investor has to buy  0.00198 options to gamma hedge\n",
      "0.00099 shares will have to be sold in order to obtain the Delta-Gamma neutral position\n"
     ]
    }
   ],
   "source": [
    "print(\"An investor has to buy \", round(gammaNeutral, 5), \"options to gamma hedge\")\n",
    "\n",
    "#Added options have changed the delta position of the portofolio\n",
    "\n",
    "sell = gammaNeutral * AAPLdelta\n",
    "\n",
    "print(round(sell, 6), \"shares will have to be sold in order to obtain the Delta-Gamma neutral position\")"
   ]
  }
 ],
 "metadata": {
  "hide_input": false,
  "kernelspec": {
   "display_name": "Python 3 (ipykernel)",
   "language": "python",
   "name": "python3"
  },
  "language_info": {
   "codemirror_mode": {
    "name": "ipython",
    "version": 3
   },
   "file_extension": ".py",
   "mimetype": "text/x-python",
   "name": "python",
   "nbconvert_exporter": "python",
   "pygments_lexer": "ipython3",
   "version": "3.9.7"
  },
  "toc": {
   "base_numbering": 1,
   "nav_menu": {},
   "number_sections": true,
   "sideBar": true,
   "skip_h1_title": false,
   "title_cell": "Table of Contents",
   "title_sidebar": "Contents",
   "toc_cell": false,
   "toc_position": {},
   "toc_section_display": true,
   "toc_window_display": false
  },
  "varInspector": {
   "cols": {
    "lenName": 16,
    "lenType": 16,
    "lenVar": 40
   },
   "kernels_config": {
    "python": {
     "delete_cmd_postfix": "",
     "delete_cmd_prefix": "del ",
     "library": "var_list.py",
     "varRefreshCmd": "print(var_dic_list())"
    },
    "r": {
     "delete_cmd_postfix": ") ",
     "delete_cmd_prefix": "rm(",
     "library": "var_list.r",
     "varRefreshCmd": "cat(var_dic_list()) "
    }
   },
   "types_to_exclude": [
    "module",
    "function",
    "builtin_function_or_method",
    "instance",
    "_Feature"
   ],
   "window_display": false
  }
 },
 "nbformat": 4,
 "nbformat_minor": 5
}
