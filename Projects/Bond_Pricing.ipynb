{
 "cells": [
  {
   "cell_type": "code",
   "execution_count": 116,
   "id": "41b2880a",
   "metadata": {
    "ExecuteTime": {
     "end_time": "2023-06-03T14:20:22.206883Z",
     "start_time": "2023-06-03T14:20:22.194346Z"
    }
   },
   "outputs": [],
   "source": [
    "# Import necessary packages\n",
    "\n",
    "import yfinance as yf\n",
    "import pandas as pd\n",
    "import numpy as np\n",
    "from datetime import datetime\n",
    "import matplotlib.pyplot as plt\n",
    "from scipy.stats import norm\n",
    "import math"
   ]
  },
  {
   "cell_type": "markdown",
   "id": "346b46d2",
   "metadata": {},
   "source": [
    "# Question 1 "
   ]
  },
  {
   "cell_type": "markdown",
   "id": "548059df",
   "metadata": {},
   "source": [
    "1) Define a bond and explain how it is issued. Explain the relationship between bonds and interest rates.\n",
    "\n",
    "A bond is a fixed-income financial instrument that represents a loan made by an investor to a borrower, typically a government or corporation. It is a form of debt where the issuer of the bond promises to repay the principal amount (the face value or par value) to the bondholder at a specified maturity date. In return for lending money, the bondholder receives periodic interest payments, known as coupon payments, over the life of the bond.\n",
    "\n",
    "The relationship between bonds and interest rates is inverse. When interest rates rise, the value of existing bonds in the market tends to decrease. This is because investors can now earn higher interest rates from newly issued bonds, making existing bonds with lower coupon rates less attractive. As a result, bond prices fall.\n",
    "\n",
    "Conversely, when interest rates decline, the value of existing bonds tends to increase. This is because existing bonds with higher coupon rates become more valuable since they offer higher yields compared to newly issued bonds with lower rates. As a result, bond prices rise.\n",
    "\n",
    "Changes in interest rates can also affect bond yields. When interest rates rise, bond yields increase, and vice versa. Yields reflect the total return an investor can expect to earn from a bond, including both coupon payments and any potential capital gains or losses from changes in bond prices."
   ]
  },
  {
   "cell_type": "markdown",
   "id": "f7e66e0d",
   "metadata": {
    "ExecuteTime": {
     "end_time": "2023-05-15T12:50:32.763667Z",
     "start_time": "2023-05-15T12:50:32.742773Z"
    }
   },
   "source": [
    "# Question 2"
   ]
  },
  {
   "cell_type": "markdown",
   "id": "2fc1cabe",
   "metadata": {},
   "source": [
    "From the website of the European Central Bank – “Euro area yield curves” section:\n",
    "- Select a specific date for the AAA rated bonds (or for all bonds).\n",
    "\n",
    "- For the selected date, choose from the spot yield curve 8 consecutive semi-annual spot yields (The yields are those of zero-coupon bonds, with a par value of €100. 8 consecutive semi-annual spot yields represent a period of 4 years.):"
   ]
  },
  {
   "cell_type": "code",
   "execution_count": 117,
   "id": "52465df7",
   "metadata": {
    "ExecuteTime": {
     "end_time": "2023-06-03T14:20:22.230734Z",
     "start_time": "2023-06-03T14:20:22.210403Z"
    }
   },
   "outputs": [
    {
     "data": {
      "text/plain": [
       "{0.5: 3.003,\n",
       " 1: 2.977,\n",
       " 1.5: 2.841,\n",
       " 2: 2.7,\n",
       " 2.5: 2.587,\n",
       " 3: 2.504,\n",
       " 3.5: 2.448,\n",
       " 4: 2.412}"
      ]
     },
     "execution_count": 117,
     "metadata": {},
     "output_type": "execute_result"
    }
   ],
   "source": [
    "# Selected date: may 2nd 2023 - Triple A rated bonds for a 0 to 5 years period. \n",
    "dic_yields = {0.5:3.003,1:2.977,1.5:2.841,2:2.700,\n",
    "              2.5:2.587,3:2.504,3.5:2.448,4:2.412}\n",
    "dic_yields"
   ]
  },
  {
   "cell_type": "markdown",
   "id": "d9b6dc2c",
   "metadata": {},
   "source": [
    "# Question 3"
   ]
  },
  {
   "cell_type": "markdown",
   "id": "918bcfaa",
   "metadata": {},
   "source": [
    "Define a spot rate. Calculate the price of the 8 STRIPS from which the chosen 8 spot rates are deducted by reversing the\n",
    "equation on slide 17. Are the STRIPS below or above par value? Why?\n",
    "\n",
    "In the context of bonds, a spot rate refers to the interest rate or yield on a bond for a specific maturity or time period. It represents the rate of return an investor would receive if they purchased the bond and held it until maturity, without any reinvestment of coupon payments.The spot rate is typically expressed as an annualized percentage and is derived from the current market prices of bonds with different maturities. It reflects the market's expectation of future interest rates and serves as a benchmark for pricing fixed-income securities."
   ]
  },
  {
   "cell_type": "code",
   "execution_count": 118,
   "id": "444257c7",
   "metadata": {
    "ExecuteTime": {
     "end_time": "2023-06-03T14:20:22.256170Z",
     "start_time": "2023-06-03T14:20:22.232361Z"
    }
   },
   "outputs": [
    {
     "data": {
      "text/html": [
       "<div>\n",
       "<style scoped>\n",
       "    .dataframe tbody tr th:only-of-type {\n",
       "        vertical-align: middle;\n",
       "    }\n",
       "\n",
       "    .dataframe tbody tr th {\n",
       "        vertical-align: top;\n",
       "    }\n",
       "\n",
       "    .dataframe thead th {\n",
       "        text-align: right;\n",
       "    }\n",
       "</style>\n",
       "<table border=\"1\" class=\"dataframe\">\n",
       "  <thead>\n",
       "    <tr style=\"text-align: right;\">\n",
       "      <th></th>\n",
       "      <th>Maturity</th>\n",
       "      <th>Spot_rate</th>\n",
       "      <th>STRIPS</th>\n",
       "    </tr>\n",
       "  </thead>\n",
       "  <tbody>\n",
       "    <tr>\n",
       "      <th>0</th>\n",
       "      <td>0.5</td>\n",
       "      <td>3.003</td>\n",
       "      <td>98.520712</td>\n",
       "    </tr>\n",
       "    <tr>\n",
       "      <th>1</th>\n",
       "      <td>1.0</td>\n",
       "      <td>2.977</td>\n",
       "      <td>97.088174</td>\n",
       "    </tr>\n",
       "    <tr>\n",
       "      <th>2</th>\n",
       "      <td>1.5</td>\n",
       "      <td>2.841</td>\n",
       "      <td>95.856763</td>\n",
       "    </tr>\n",
       "    <tr>\n",
       "      <th>3</th>\n",
       "      <td>2.0</td>\n",
       "      <td>2.700</td>\n",
       "      <td>94.777443</td>\n",
       "    </tr>\n",
       "    <tr>\n",
       "      <th>4</th>\n",
       "      <td>2.5</td>\n",
       "      <td>2.587</td>\n",
       "      <td>93.776088</td>\n",
       "    </tr>\n",
       "    <tr>\n",
       "      <th>5</th>\n",
       "      <td>3.0</td>\n",
       "      <td>2.504</td>\n",
       "      <td>92.806488</td>\n",
       "    </tr>\n",
       "    <tr>\n",
       "      <th>6</th>\n",
       "      <td>3.5</td>\n",
       "      <td>2.448</td>\n",
       "      <td>91.836545</td>\n",
       "    </tr>\n",
       "    <tr>\n",
       "      <th>7</th>\n",
       "      <td>4.0</td>\n",
       "      <td>2.412</td>\n",
       "      <td>90.855227</td>\n",
       "    </tr>\n",
       "  </tbody>\n",
       "</table>\n",
       "</div>"
      ],
      "text/plain": [
       "   Maturity  Spot_rate     STRIPS\n",
       "0       0.5      3.003  98.520712\n",
       "1       1.0      2.977  97.088174\n",
       "2       1.5      2.841  95.856763\n",
       "3       2.0      2.700  94.777443\n",
       "4       2.5      2.587  93.776088\n",
       "5       3.0      2.504  92.806488\n",
       "6       3.5      2.448  91.836545\n",
       "7       4.0      2.412  90.855227"
      ]
     },
     "execution_count": 118,
     "metadata": {},
     "output_type": "execute_result"
    }
   ],
   "source": [
    "df_3 = pd.DataFrame({'Maturity': dic_yields.keys(), 'Spot_rate': dic_yields.values()})\n",
    "df_3['STRIPS'] = 100 / (((df_3['Spot_rate']/100)/2 +1) ** (2*df_3['Maturity']))\n",
    "df_3"
   ]
  },
  {
   "cell_type": "markdown",
   "id": "d6fcc30d",
   "metadata": {},
   "source": [
    "The strips are all below the par values. It means that when maturity is increasing, the curve rate is supposed to decrease."
   ]
  },
  {
   "cell_type": "markdown",
   "id": "2c3dd4d2",
   "metadata": {},
   "source": [
    "# Question 4"
   ]
  },
  {
   "cell_type": "markdown",
   "id": "bfdff1a8",
   "metadata": {},
   "source": [
    "Define a forward rate. From the chosen spot rates, calculate the respective forward rates. Plot the forward yield curve."
   ]
  },
  {
   "cell_type": "code",
   "execution_count": 119,
   "id": "cb472d2b",
   "metadata": {
    "ExecuteTime": {
     "end_time": "2023-06-03T14:20:22.289497Z",
     "start_time": "2023-06-03T14:20:22.256170Z"
    }
   },
   "outputs": [
    {
     "name": "stderr",
     "output_type": "stream",
     "text": [
      "C:\\Users\\loand\\AppData\\Local\\Temp\\ipykernel_19964\\3136248294.py:7: SettingWithCopyWarning: \n",
      "A value is trying to be set on a copy of a slice from a DataFrame\n",
      "\n",
      "See the caveats in the documentation: https://pandas.pydata.org/pandas-docs/stable/user_guide/indexing.html#returning-a-view-versus-a-copy\n",
      "  df_3['forward'][0] = df_3['Spot_rate'][0]\n"
     ]
    },
    {
     "data": {
      "text/html": [
       "<div>\n",
       "<style scoped>\n",
       "    .dataframe tbody tr th:only-of-type {\n",
       "        vertical-align: middle;\n",
       "    }\n",
       "\n",
       "    .dataframe tbody tr th {\n",
       "        vertical-align: top;\n",
       "    }\n",
       "\n",
       "    .dataframe thead th {\n",
       "        text-align: right;\n",
       "    }\n",
       "</style>\n",
       "<table border=\"1\" class=\"dataframe\">\n",
       "  <thead>\n",
       "    <tr style=\"text-align: right;\">\n",
       "      <th></th>\n",
       "      <th>Maturity</th>\n",
       "      <th>Spot_rate</th>\n",
       "      <th>STRIPS</th>\n",
       "      <th>index_q4</th>\n",
       "      <th>forward</th>\n",
       "    </tr>\n",
       "  </thead>\n",
       "  <tbody>\n",
       "    <tr>\n",
       "      <th>0</th>\n",
       "      <td>0.5</td>\n",
       "      <td>3.003</td>\n",
       "      <td>98.520712</td>\n",
       "      <td>1</td>\n",
       "      <td>3.003000</td>\n",
       "    </tr>\n",
       "    <tr>\n",
       "      <th>1</th>\n",
       "      <td>1.0</td>\n",
       "      <td>2.977</td>\n",
       "      <td>97.088174</td>\n",
       "      <td>2</td>\n",
       "      <td>2.951135</td>\n",
       "    </tr>\n",
       "    <tr>\n",
       "      <th>2</th>\n",
       "      <td>1.5</td>\n",
       "      <td>2.841</td>\n",
       "      <td>95.856763</td>\n",
       "      <td>3</td>\n",
       "      <td>2.580047</td>\n",
       "    </tr>\n",
       "    <tr>\n",
       "      <th>3</th>\n",
       "      <td>2.0</td>\n",
       "      <td>2.700</td>\n",
       "      <td>94.777443</td>\n",
       "      <td>4</td>\n",
       "      <td>2.301166</td>\n",
       "    </tr>\n",
       "    <tr>\n",
       "      <th>4</th>\n",
       "      <td>2.5</td>\n",
       "      <td>2.587</td>\n",
       "      <td>93.776088</td>\n",
       "      <td>5</td>\n",
       "      <td>2.161523</td>\n",
       "    </tr>\n",
       "    <tr>\n",
       "      <th>5</th>\n",
       "      <td>3.0</td>\n",
       "      <td>2.504</td>\n",
       "      <td>92.806488</td>\n",
       "      <td>6</td>\n",
       "      <td>2.110992</td>\n",
       "    </tr>\n",
       "    <tr>\n",
       "      <th>6</th>\n",
       "      <td>3.5</td>\n",
       "      <td>2.448</td>\n",
       "      <td>91.836545</td>\n",
       "      <td>7</td>\n",
       "      <td>2.126322</td>\n",
       "    </tr>\n",
       "    <tr>\n",
       "      <th>7</th>\n",
       "      <td>4.0</td>\n",
       "      <td>2.412</td>\n",
       "      <td>90.855227</td>\n",
       "      <td>8</td>\n",
       "      <td>2.168028</td>\n",
       "    </tr>\n",
       "  </tbody>\n",
       "</table>\n",
       "</div>"
      ],
      "text/plain": [
       "   Maturity  Spot_rate     STRIPS  index_q4   forward\n",
       "0       0.5      3.003  98.520712         1  3.003000\n",
       "1       1.0      2.977  97.088174         2  2.951135\n",
       "2       1.5      2.841  95.856763         3  2.580047\n",
       "3       2.0      2.700  94.777443         4  2.301166\n",
       "4       2.5      2.587  93.776088         5  2.161523\n",
       "5       3.0      2.504  92.806488         6  2.110992\n",
       "6       3.5      2.448  91.836545         7  2.126322\n",
       "7       4.0      2.412  90.855227         8  2.168028"
      ]
     },
     "execution_count": 119,
     "metadata": {},
     "output_type": "execute_result"
    }
   ],
   "source": [
    "df_3['index_q4'] = df_3.index.values + 1\n",
    "\n",
    "numerator = (1+ df_3['Spot_rate']/2) ** df_3['index_q4']\n",
    "denominator = (1+ df_3['Spot_rate'].shift(1)/2) ** df_3['index_q4'].shift(1)\n",
    "\n",
    "df_3['forward'] = 2 * (numerator/denominator -1)\n",
    "df_3['forward'][0] = df_3['Spot_rate'][0]\n",
    "\n",
    "df_3"
   ]
  },
  {
   "cell_type": "code",
   "execution_count": 120,
   "id": "93824bd1",
   "metadata": {
    "ExecuteTime": {
     "end_time": "2023-06-03T14:20:22.599447Z",
     "start_time": "2023-06-03T14:20:22.293305Z"
    }
   },
   "outputs": [
    {
     "data": {
      "text/plain": [
       "<AxesSubplot:title={'center':'Forward rate per Maturity'}, xlabel='Maturity', ylabel='Rate in %'>"
      ]
     },
     "execution_count": 120,
     "metadata": {},
     "output_type": "execute_result"
    },
    {
     "data": {
      "image/png": "[encoded data removed]",
      "text/plain": [
       "<Figure size 640x480 with 1 Axes>"
      ]
     },
     "metadata": {},
     "output_type": "display_data"
    }
   ],
   "source": [
    "df_3.plot(x= 'Maturity', y='forward', title = 'Forward rate per Maturity',\n",
    "          xlabel='Maturity', ylabel='Rate in %')"
   ]
  },
  {
   "cell_type": "markdown",
   "id": "f19af459",
   "metadata": {},
   "source": [
    "# Question 5"
   ]
  },
  {
   "cell_type": "markdown",
   "id": "e68364c9",
   "metadata": {},
   "source": [
    "Assume that today is the 1st of January 2023. Assume that the French government issued today (1st of January 2023) a 3-year government bond that pays semi-annually a 4% coupon (par value = 1,000€).\n",
    "\n",
    "a) Calculate the price of the bond using spot rates.\n",
    "\n",
    "b) Calculate the price of the bond using forward rates.\n",
    "\n",
    "c) What do you observe?"
   ]
  },
  {
   "cell_type": "code",
   "execution_count": 121,
   "id": "76407659",
   "metadata": {
    "ExecuteTime": {
     "end_time": "2023-06-03T14:20:22.623367Z",
     "start_time": "2023-06-03T14:20:22.599447Z"
    }
   },
   "outputs": [
    {
     "name": "stdout",
     "output_type": "stream",
     "text": [
      "1042.63\n"
     ]
    }
   ],
   "source": [
    "# Price of the semi-annual coupon\n",
    "\n",
    "# Using Spot Rates\n",
    "\n",
    "C = (0.04*1000)/2\n",
    "\n",
    "# 3 years of maturity = 6 coupons delivered\n",
    "M = 1000\n",
    "Added = M / (1 + ((df_3['Spot_rate'][5]/100) / 2))**df_3['index_q4'][5]\n",
    "Somme = 0\n",
    "for i in range(0, 6):\n",
    "    Somme += C / (1 + ((df_3['Spot_rate'][i]/100) / 2))**df_3['index_q4'][i]\n",
    "\n",
    "P_spot = Somme + Added\n",
    "print(round(P_spot, 2))"
   ]
  },
  {
   "cell_type": "code",
   "execution_count": 122,
   "id": "663aa081",
   "metadata": {
    "ExecuteTime": {
     "end_time": "2023-06-03T14:20:22.656584Z",
     "start_time": "2023-06-03T14:20:22.626863Z"
    }
   },
   "outputs": [
    {
     "data": {
      "text/plain": [
       "1042.2370485126387"
      ]
     },
     "execution_count": 122,
     "metadata": {},
     "output_type": "execute_result"
    }
   ],
   "source": [
    "# Using Forward Rates\n",
    "\n",
    "C = (0.04*1000)/2\n",
    "\n",
    "M = 1000\n",
    "denominator = 1\n",
    "test=1\n",
    "Somme = 0\n",
    "Added = 0\n",
    "for i in range(0, 6):\n",
    "    denominator = denominator * (1 + ((df_3['forward'][i]/100) / 2))\n",
    "    Somme += (C / denominator)\n",
    "Added = M / denominator\n",
    "\n",
    "P_forw = Somme + Added\n",
    "P_forw\n",
    "\n",
    "\n",
    "# We find almost same results while using spot and forward rates "
   ]
  },
  {
   "cell_type": "markdown",
   "id": "a95ccea0",
   "metadata": {},
   "source": [
    "# Question 6\n",
    "\n",
    "Assume that you have purchased the 3-year government bond 45 days after it was issued. Using the spot rates, calculate the\n",
    "dirty and the clean price of the bond."
   ]
  },
  {
   "cell_type": "code",
   "execution_count": 123,
   "id": "a80a3532",
   "metadata": {
    "ExecuteTime": {
     "end_time": "2023-06-03T14:20:22.672904Z",
     "start_time": "2023-06-03T14:20:22.656584Z"
    }
   },
   "outputs": [
    {
     "name": "stdout",
     "output_type": "stream",
     "text": [
      "dirty price : 1029.517166926353\n",
      "clean price : 1014.517166926353\n"
     ]
    }
   ],
   "source": [
    "# Dirty Price\n",
    "# Semi annual coupon\n",
    "\n",
    "C = (0.04*1000)/2\n",
    "w = 135 / 180 #European day count convention\n",
    "\n",
    "M = 1000 # par-value\n",
    "\n",
    "denominator = 1\n",
    "Somme = 0\n",
    "Added = 0\n",
    "\n",
    "for i in range(0, 6):\n",
    "    denominator = denominator * ((1 + ((df_3['Spot_rate'][i]/100) / 2)))**(i+w)\n",
    "    Somme += (C / denominator)\n",
    "    \n",
    "\n",
    "N = 7  \n",
    "\n",
    "Added = M / ((1 + ((df_3['Spot_rate'][7]/100) / 2)))**((N-1)+w)\n",
    "\n",
    "P_dirty = Somme + Added\n",
    "print('dirty price :', P_dirty)\n",
    "\n",
    "\n",
    "# Clean price\n",
    "\n",
    "# Accrued Interest\n",
    "\n",
    "AI = C * w\n",
    "\n",
    "P_clean = P_dirty - AI\n",
    "\n",
    "print('clean price :', P_clean)"
   ]
  },
  {
   "cell_type": "markdown",
   "id": "c14dcae1",
   "metadata": {},
   "source": [
    "# Question 7\n",
    "\n",
    "Estimate the yield to maturity (YTM) of the bond calculated in question 5 a). Interpret.\n",
    "\n",
    "Def : realized return anticipated on a bond if the bond is held until it matures and assuming all cash\n",
    "flows are reinvested at the YTM. It is expressed as an annual rate."
   ]
  },
  {
   "cell_type": "code",
   "execution_count": 124,
   "id": "e086e7cb",
   "metadata": {
    "ExecuteTime": {
     "end_time": "2023-06-03T14:20:22.687636Z",
     "start_time": "2023-06-03T14:20:22.676986Z"
    }
   },
   "outputs": [
    {
     "name": "stdout",
     "output_type": "stream",
     "text": [
      "The Yield To Maturity (YTM) is: 1.258 %\n"
     ]
    }
   ],
   "source": [
    "from scipy.optimize import fsolve\n",
    "\n",
    "# Define the equation\n",
    "def equation(y, C, M, P):\n",
    "    return (C/(y+1)**1) + (C/(y+1)**2) + (C/(y+1)**3) + (C/(y+1)**4) + (C/(y+1)**5) + (C/(y+1)**6) + (M/(y+1)**6) - P\n",
    "\n",
    "# Define the parameters\n",
    "C = C\n",
    "M = 1000\n",
    "P = P_spot\n",
    "\n",
    "# Solve the equation for y using fsolve\n",
    "y_solution = fsolve(equation, x0=0, args=(C, M, P))\n",
    "YTM = round(float(y_solution), 5)\n",
    "\n",
    "print(\"The Yield To Maturity (YTM) is:\", YTM*100, '%')"
   ]
  },
  {
   "cell_type": "raw",
   "id": "123f646f",
   "metadata": {},
   "source": [
    "The average annual return an investor can expect to earn if he invests in this bond and if it is held until maturity is 1.258%."
   ]
  },
  {
   "cell_type": "markdown",
   "id": "3aeb1e5c",
   "metadata": {},
   "source": [
    "# Question 8\n",
    "\n",
    "Plot the term structure of your spot rates. Interpret from a macroeconomic perspective."
   ]
  },
  {
   "cell_type": "code",
   "execution_count": 125,
   "id": "3d17fc69",
   "metadata": {
    "ExecuteTime": {
     "end_time": "2023-06-03T14:20:22.970495Z",
     "start_time": "2023-06-03T14:20:22.691252Z"
    }
   },
   "outputs": [
    {
     "data": {
      "text/plain": [
       "<AxesSubplot:title={'center':'Spot rates per Maturity'}, xlabel='Maturity', ylabel='Rate in %'>"
      ]
     },
     "execution_count": 125,
     "metadata": {},
     "output_type": "execute_result"
    },
    {
     "data": {
      "image/png": "[encoded data removed]",
      "text/plain": [
       "<Figure size 640x480 with 1 Axes>"
      ]
     },
     "metadata": {},
     "output_type": "display_data"
    }
   ],
   "source": [
    "df_3.plot(x= 'Maturity', y='Spot_rate', title = 'Spot rates per Maturity',\n",
    "          xlabel='Maturity', ylabel='Rate in %')"
   ]
  },
  {
   "cell_type": "markdown",
   "id": "f411cfb0",
   "metadata": {},
   "source": [
    "Downward slopping :\n",
    "short-term yields are higher than long-term yields. Dubbed as an \"inverted\" yield curve and signifies\n",
    "that the economy is in, or about to enter, a recessive period."
   ]
  },
  {
   "cell_type": "markdown",
   "id": "be902f82",
   "metadata": {},
   "source": [
    "# Question 9\n",
    "\n",
    "Using the bond parameters calculated in question 5 and the YTM estimated in question 7\n",
    "\n",
    "a) Calculate DV01 for a two basis points decrease in YTM. Interpret.\n",
    "\n",
    "DV01 - “dollar value of an 01”, measures the change in a fixed income security’s value in $ for every one basis point\n",
    "change in interest rates. The “01” refers to one basis point (= 0.01% = 0.0001). It is a good measure for relatively small\n",
    "changes in interest rates."
   ]
  },
  {
   "cell_type": "code",
   "execution_count": 126,
   "id": "5241494b",
   "metadata": {
    "ExecuteTime": {
     "end_time": "2023-06-03T14:20:22.995055Z",
     "start_time": "2023-06-03T14:20:22.974759Z"
    }
   },
   "outputs": [
    {
     "name": "stdout",
     "output_type": "stream",
     "text": [
      "For a decrease of 1 basis point in YTM, the price of the bond will increase by: 5.931$\n",
      "A decrease of 2 basis point in YTM will result in an increase of 11.861$ in the price of the the bond\n"
     ]
    }
   ],
   "source": [
    "# Define starting YTM\n",
    "YTM = YTM  # We take the one from Q.7\n",
    "\n",
    "def Bond_price(YTM):\n",
    "    P = (20/(YTM+1)**1) + (20/(YTM+1)**2) + (20/(YTM+1)**3) + (20/(YTM+1)**4) + (20/(YTM+1)**5) + (20/(YTM+1)**6) + (1000/(YTM+1)**6)\n",
    "    return P\n",
    "\n",
    "basis_point = 0.002\n",
    "\n",
    "DV01 = Bond_price(YTM-basis_point) - Bond_price(YTM)\n",
    "\n",
    "print(f\"For a decrease of 1 basis point in YTM, the price of the bond will increase by: {DV01/2:.3f}$\")\n",
    "print(f\"A decrease of 2 basis point in YTM will result in an increase of {DV01:.3f}$ in the price of the the bond\")"
   ]
  },
  {
   "cell_type": "markdown",
   "id": "e7bc11bd",
   "metadata": {},
   "source": [
    "b) Calculate duration and convexity for a 1.5% increase and decrease in YTM. Interpret."
   ]
  },
  {
   "cell_type": "code",
   "execution_count": 127,
   "id": "42a44b13",
   "metadata": {
    "ExecuteTime": {
     "end_time": "2023-06-03T14:20:23.010114Z",
     "start_time": "2023-06-03T14:20:22.998889Z"
    }
   },
   "outputs": [
    {
     "data": {
      "text/plain": [
       "10.0"
      ]
     },
     "execution_count": 127,
     "metadata": {},
     "output_type": "execute_result"
    }
   ],
   "source": [
    "10/(200*0.005)"
   ]
  },
  {
   "cell_type": "code",
   "execution_count": 128,
   "id": "c403eef4",
   "metadata": {
    "ExecuteTime": {
     "end_time": "2023-06-03T14:20:23.026011Z",
     "start_time": "2023-06-03T14:20:23.015797Z"
    }
   },
   "outputs": [
    {
     "name": "stdout",
     "output_type": "stream",
     "text": [
      "5.6495456244393525\n",
      "For a 30 basis point (0.3%) change in yield, the expected price change is 5.65% In other words, if the yield on this bond increases by 0.3%, the price should decrease by about 5.65%. If the yield decreases by 0.3%, the price of the bond should increase by about 5.65%\n"
     ]
    }
   ],
   "source": [
    "# Duration\n",
    "# 15 basis points increase/decrease\n",
    "\n",
    "basis_point = 0.15/100\n",
    "\n",
    "D = (Bond_price(YTM-basis_point)-Bond_price(YTM+basis_point)) / (2*Bond_price(YTM)*basis_point)\n",
    "print(D)\n",
    "print(f\"For a 30 basis point (0.3%) change in yield, the expected price change is {D:.2f}%\",\n",
    "      f\"In other words, if the yield on this bond increases by 0.3%,\",\n",
    "      f\"the price should decrease by about {D:.2f}%. If the yield decreases by 0.3%, the price of the bond should increase by about {D:.2f}%\")"
   ]
  },
  {
   "cell_type": "code",
   "execution_count": 129,
   "id": "3bdf2509",
   "metadata": {
    "ExecuteTime": {
     "end_time": "2023-06-03T14:20:23.057631Z",
     "start_time": "2023-06-03T14:20:23.031295Z"
    }
   },
   "outputs": [
    {
     "name": "stdout",
     "output_type": "stream",
     "text": [
      "A convexity of 38.42 cannot be conveniently converted into some measure of, potential price volatility. The convexity value means nothing in isolation. However, it becomes very useful when it is used to, measure a bond’s convexity effect.\n"
     ]
    }
   ],
   "source": [
    "# Convexity\n",
    "basis_point = 0.0015\n",
    "\n",
    "Cx = (Bond_price(YTM-basis_point)+Bond_price(YTM+basis_point) - 2*Bond_price(YTM)) / (Bond_price(YTM)*(basis_point**2))\n",
    "\n",
    "print(f\"A convexity of {Cx:.2f} cannot be conveniently converted into some measure of,\",\n",
    "\"potential price volatility. The convexity value means nothing in isolation. However, it becomes very useful\", \n",
    "\"when it is used to, measure a bond’s convexity effect.\")"
   ]
  },
  {
   "cell_type": "markdown",
   "id": "c484af22",
   "metadata": {},
   "source": [
    "c) Calculate the change in bond price for a 2.6% increase and decrease in YTM using the duration/convexity approach.\n",
    "Interpret.\n",
    "\n",
    "Estimation with both “duration” and “convexity” - by combining “duration” and “convexity”, a far more accurate estimate\n",
    "of the percentage change in the price of a bond can be obtained, especially for large changes in interest rates"
   ]
  },
  {
   "cell_type": "code",
   "execution_count": 130,
   "id": "e1846f91",
   "metadata": {
    "ExecuteTime": {
     "end_time": "2023-06-03T14:20:23.089689Z",
     "start_time": "2023-06-03T14:20:23.062089Z"
    }
   },
   "outputs": [
    {
     "name": "stdout",
     "output_type": "stream",
     "text": [
      "If YTM increases (decreases) by 2.6%, the value of the bond will decrease (increase) by -12.01% (15.07%).\n"
     ]
    }
   ],
   "source": [
    "# Parameters\n",
    "\n",
    "# We understood the exercice like we had to keep the duration and convexity calculated before\n",
    "# With a 15 basis points increase and decrease.\n",
    "\n",
    "D = D/100\n",
    "Cx = Cx\n",
    "V = Bond_price(YTM)\n",
    "change = 2.6/100\n",
    "\n",
    "increase = ((-D)*(-change)*V) + (0.5*Cx*((-change)**2)*V)\n",
    "decrease = ((-D)*(+change)*V) + (0.5*Cx*(change**2)*V)\n",
    "\n",
    "print(f\"If YTM increases (decreases) by 2.6%, the value of the bond will decrease (increase) by {-1*decrease:.2f}% ({increase:.2f}%).\")"
   ]
  },
  {
   "cell_type": "markdown",
   "id": "9161ed03",
   "metadata": {},
   "source": [
    "# Question 10"
   ]
  },
  {
   "cell_type": "raw",
   "id": "88e89cf8",
   "metadata": {},
   "source": [
    "Choose the DV01, duration and convexity measures of two bonds (either randomly / either from a real economy) to create\n",
    "hedging strategies. Assume you decided to purchase $17.5M of the bond calculated in question 5"
   ]
  },
  {
   "cell_type": "code",
   "execution_count": 136,
   "id": "11b05256",
   "metadata": {
    "ExecuteTime": {
     "end_time": "2023-06-03T14:22:00.034247Z",
     "start_time": "2023-06-03T14:22:00.009886Z"
    }
   },
   "outputs": [
    {
     "name": "stdout",
     "output_type": "stream",
     "text": [
      "To hedge our 17.5m position of bond 1 with bond 2, the investor must short €20.757 millions in face value of the bond 2.\n"
     ]
    }
   ],
   "source": [
    "#Create a hedging strategy with the first bond using the DV01 measure. Interpret.\n",
    "DV01_2 = 10\n",
    "D_2 = 0.08\n",
    "Cx_2 = 45\n",
    "\n",
    "#To determine the face amount of the bond required to hedge this 17.5m bond exposure, we use the following approach:\n",
    "face_value = 17.5*(DV01/DV01_2)\n",
    "print(f\"To hedge our 17.5m position of bond 1 with bond 2, the investor must short €{face_value:.3f} millions in face value of the bond 2.\")"
   ]
  },
  {
   "cell_type": "code",
   "execution_count": 144,
   "id": "3bb627d9",
   "metadata": {
    "ExecuteTime": {
     "end_time": "2023-06-03T14:26:24.158952Z",
     "start_time": "2023-06-03T14:26:24.144405Z"
    }
   },
   "outputs": [
    {
     "name": "stdout",
     "output_type": "stream",
     "text": [
      "To hedge our 17.5m position of bond 1 with bond 3, the investor must be long €32.956 millions in face value of the bond 3.\n"
     ]
    }
   ],
   "source": [
    "# Create a hedging strategy with the second bond using the duration measure. Interpret.\n",
    "DV01_3 = 12\n",
    "D_3 = 0.03\n",
    "Cx_3 = 30\n",
    "\n",
    "#To determine the face amount of the bond required to hedge this 17.5m bond exposure, we use the following approach:\n",
    "vhi = (D*17.5)/D_3\n",
    "print(f\"To hedge our 17.5m position of bond 1 with bond 3, the investor must be long €{vhi:.3f} millions in face value of the bond 3.\")"
   ]
  },
  {
   "cell_type": "code",
   "execution_count": 141,
   "id": "bfa21274",
   "metadata": {
    "ExecuteTime": {
     "end_time": "2023-06-03T14:23:41.893518Z",
     "start_time": "2023-06-03T14:23:41.877622Z"
    }
   },
   "outputs": [
    {
     "name": "stdout",
     "output_type": "stream",
     "text": [
      "vh1 = -0.00549446041088256\n",
      "vh2 = 0.02574169061632384\n"
     ]
    }
   ],
   "source": [
    "#Create a hedging strategy with the two bonds using the duration/convexity approach. Interpret.\n",
    "\n",
    "def equations(variables):\n",
    "    vh1, vh2 = variables\n",
    "    eq1 = 17.5 * D - vh1 * D_2 - vh2 * Cx\n",
    "    eq2 = 17.5 * D_3 - vh1 * Cx_2 - vh2 * Cx_3\n",
    "    return [eq1, eq2]\n",
    "\n",
    "# Define the known values of the other variables\n",
    "D = D\n",
    "D_2 = D_2\n",
    "D_3 = D_3\n",
    "Cx = Cx\n",
    "Cx_2 = Cx_2\n",
    "Cx_3 = Cx_3\n",
    "\n",
    "# Initial guess for the unknown variables\n",
    "x0 = [1.0, 1.0]\n",
    "\n",
    "# Solve the equations\n",
    "solution = fsolve(equations, x0)\n",
    "\n",
    "# Extract the values of vh1 and vh2 from the solution\n",
    "vh1, vh2 = solution\n",
    "\n",
    "print(\"vh1 =\", vh1)\n",
    "print(\"vh2 =\", vh2)"
   ]
  },
  {
   "cell_type": "raw",
   "id": "2dd55a91",
   "metadata": {},
   "source": [
    "Solving the above equation simultaneously, we get: VHI1= -0.00549 ; VHI2= 0.026.\n",
    "Therefore, for the bank to hedge its position, it must take a short position of €5494 in the first bond and a long position of €25742 in the second bond. In other words, by combining these positions, there is no duration or convexity exposure, and thus the bank is hedged against small and big changes in interest rates."
   ]
  }
 ],
 "metadata": {
  "hide_input": false,
  "kernelspec": {
   "display_name": "Python 3 (ipykernel)",
   "language": "python",
   "name": "python3"
  },
  "language_info": {
   "codemirror_mode": {
    "name": "ipython",
    "version": 3
   },
   "file_extension": ".py",
   "mimetype": "text/x-python",
   "name": "python",
   "nbconvert_exporter": "python",
   "pygments_lexer": "ipython3",
   "version": "3.9.7"
  },
  "toc": {
   "base_numbering": 1,
   "nav_menu": {},
   "number_sections": true,
   "sideBar": true,
   "skip_h1_title": false,
   "title_cell": "Table of Contents",
   "title_sidebar": "Contents",
   "toc_cell": false,
   "toc_position": {},
   "toc_section_display": true,
   "toc_window_display": false
  },
  "varInspector": {
   "cols": {
    "lenName": 16,
    "lenType": 16,
    "lenVar": 40
   },
   "kernels_config": {
    "python": {
     "delete_cmd_postfix": "",
     "delete_cmd_prefix": "del ",
     "library": "var_list.py",
     "varRefreshCmd": "print(var_dic_list())"
    },
    "r": {
     "delete_cmd_postfix": ") ",
     "delete_cmd_prefix": "rm(",
     "library": "var_list.r",
     "varRefreshCmd": "cat(var_dic_list()) "
    }
   },
   "types_to_exclude": [
    "module",
    "function",
    "builtin_function_or_method",
    "instance",
    "_Feature"
   ],
   "window_display": false
  }
 },
 "nbformat": 4,
 "nbformat_minor": 5
}
